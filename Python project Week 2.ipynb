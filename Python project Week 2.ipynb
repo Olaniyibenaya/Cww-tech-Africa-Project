{
 "cells": [
  {
   "cell_type": "markdown",
   "id": "33e947c4-33fc-4723-b3cf-c517455262f4",
   "metadata": {},
   "source": [
    "\n",
    "Variables\n"
   ]
  },
  {
   "cell_type": "code",
   "execution_count": 1,
   "id": "fedf247b-9f8f-424d-a8d3-41fce6d1e3d8",
   "metadata": {},
   "outputs": [
    {
     "name": "stdout",
     "output_type": "stream",
     "text": [
      "10\n"
     ]
    }
   ],
   "source": [
    "##Assign value 10 to variable and print it\n",
    "x=10\n",
    "print(x)"
   ]
  },
  {
   "cell_type": "code",
   "execution_count": 5,
   "id": "7a602aab-9b8f-4368-863a-cf6d5b33aea7",
   "metadata": {},
   "outputs": [
    {
     "name": "stdout",
     "output_type": "stream",
     "text": [
      "hello\n"
     ]
    }
   ],
   "source": [
    "##Assign value hello to a variable message and print it\n",
    "message = \"hello\"\n",
    "print(message)"
   ]
  },
  {
   "cell_type": "code",
   "execution_count": 9,
   "id": "b85e0351-e870-4f2b-a858-18d627b6757b",
   "metadata": {},
   "outputs": [
    {
     "name": "stdout",
     "output_type": "stream",
     "text": [
      "early\n"
     ]
    }
   ],
   "source": [
    "##Create a variable and assign a value to it\n",
    "##print the variable \n",
    "punctual= \"early\"\n",
    "print(punctual)"
   ]
  },
  {
   "cell_type": "code",
   "execution_count": 11,
   "id": "8175e290-1447-484a-b44b-419949ec29cd",
   "metadata": {},
   "outputs": [
    {
     "data": {
      "text/plain": [
       "str"
      ]
     },
     "execution_count": 11,
     "metadata": {},
     "output_type": "execute_result"
    }
   ],
   "source": [
    "##print the type of the variable \n",
    "type(punctual)"
   ]
  },
  {
   "cell_type": "markdown",
   "id": "2df379de-cc4a-4cbf-b422-95885dd10e5e",
   "metadata": {},
   "source": [
    "Data types\n"
   ]
  },
  {
   "cell_type": "code",
   "execution_count": 14,
   "id": "5d02c8e2-35f7-42d7-a726-f82e748597d7",
   "metadata": {},
   "outputs": [],
   "source": [
    "##Create a variable for each of the following data types; int,str,bool,float\n",
    "Me = \"my mummy\"\n",
    "Mum = 65\n",
    "I_am = 12.3\n",
    "to = True"
   ]
  },
  {
   "cell_type": "code",
   "execution_count": 16,
   "id": "6673808e-1d05-46c3-a29d-f8e50610bc81",
   "metadata": {},
   "outputs": [
    {
     "name": "stdout",
     "output_type": "stream",
     "text": [
      "65\n"
     ]
    }
   ],
   "source": [
    "#integer\n",
    "print(Mum)"
   ]
  },
  {
   "cell_type": "code",
   "execution_count": 38,
   "id": "37563134-6928-4f68-acc3-fc41943849b6",
   "metadata": {},
   "outputs": [
    {
     "data": {
      "text/plain": [
       "int"
      ]
     },
     "execution_count": 38,
     "metadata": {},
     "output_type": "execute_result"
    }
   ],
   "source": [
    "type(Mum)"
   ]
  },
  {
   "cell_type": "code",
   "execution_count": 26,
   "id": "cc435b51-d768-40b5-a44f-9ee7b42fba1b",
   "metadata": {},
   "outputs": [
    {
     "name": "stdout",
     "output_type": "stream",
     "text": [
      "my mummy\n"
     ]
    }
   ],
   "source": [
    "#string\n",
    "print(Me)"
   ]
  },
  {
   "cell_type": "code",
   "execution_count": 40,
   "id": "5c2677ab-84b7-40a7-b932-746be0a3f381",
   "metadata": {},
   "outputs": [
    {
     "data": {
      "text/plain": [
       "str"
      ]
     },
     "execution_count": 40,
     "metadata": {},
     "output_type": "execute_result"
    }
   ],
   "source": [
    "type(Me)"
   ]
  },
  {
   "cell_type": "code",
   "execution_count": 28,
   "id": "60ddf01a-8880-4505-9815-b7053aaae54c",
   "metadata": {},
   "outputs": [
    {
     "name": "stdout",
     "output_type": "stream",
     "text": [
      "12.3\n"
     ]
    }
   ],
   "source": [
    "#float\n",
    "print(I_am)"
   ]
  },
  {
   "cell_type": "code",
   "execution_count": 42,
   "id": "0592ae7f-077e-48b8-9598-227be2da3ff6",
   "metadata": {},
   "outputs": [
    {
     "data": {
      "text/plain": [
       "float"
      ]
     },
     "execution_count": 42,
     "metadata": {},
     "output_type": "execute_result"
    }
   ],
   "source": [
    "type(I_am)"
   ]
  },
  {
   "cell_type": "code",
   "execution_count": 30,
   "id": "7f830376-a029-4296-8a0d-7014a12550ae",
   "metadata": {},
   "outputs": [
    {
     "name": "stdout",
     "output_type": "stream",
     "text": [
      "True\n"
     ]
    }
   ],
   "source": [
    "#bool\n",
    "print(to)"
   ]
  },
  {
   "cell_type": "code",
   "execution_count": 44,
   "id": "7b5aab3e-ebd7-435b-ac01-d4556352a2b1",
   "metadata": {},
   "outputs": [
    {
     "data": {
      "text/plain": [
       "bool"
      ]
     },
     "execution_count": 44,
     "metadata": {},
     "output_type": "execute_result"
    }
   ],
   "source": [
    "type(to)"
   ]
  },
  {
   "cell_type": "code",
   "execution_count": 32,
   "id": "29d1f603-4de3-46d4-95f0-2e1a43c1506f",
   "metadata": {},
   "outputs": [],
   "source": [
    "# Convert 'Mum' to a float\n",
    "Mum_as_float = float(Mum)"
   ]
  },
  {
   "cell_type": "code",
   "execution_count": 46,
   "id": "1cc6c77f-9162-4e1e-ad9e-f23c76b2b409",
   "metadata": {},
   "outputs": [
    {
     "name": "stdout",
     "output_type": "stream",
     "text": [
      "65.0\n"
     ]
    }
   ],
   "source": [
    "print(Mum_as_float)"
   ]
  },
  {
   "cell_type": "code",
   "execution_count": 34,
   "id": "9f018e22-673a-41a4-a2ef-e8bcbae8ebfb",
   "metadata": {},
   "outputs": [],
   "source": [
    "# Convert 'I_am' to an integer\n",
    "I_am_as_int = int(I_am)"
   ]
  },
  {
   "cell_type": "code",
   "execution_count": 48,
   "id": "2ac8c9ca-2270-4cea-bb82-ee103f8ecaf9",
   "metadata": {},
   "outputs": [
    {
     "name": "stdout",
     "output_type": "stream",
     "text": [
      "12\n"
     ]
    }
   ],
   "source": [
    "print(I_am_as_int)"
   ]
  },
  {
   "cell_type": "code",
   "execution_count": 52,
   "id": "943f6c07-ad42-4d31-a63f-1e6dd7bb9f3c",
   "metadata": {},
   "outputs": [],
   "source": [
    "# Convert 'Me' to a boolean\n",
    "Me_as_bool = bool(Me)"
   ]
  },
  {
   "cell_type": "code",
   "execution_count": 54,
   "id": "a026ac86-2598-412a-a6f2-f16dbda5d1e3",
   "metadata": {},
   "outputs": [
    {
     "name": "stdout",
     "output_type": "stream",
     "text": [
      "True\n"
     ]
    }
   ],
   "source": [
    "print(Me_as_bool)"
   ]
  },
  {
   "cell_type": "code",
   "execution_count": 56,
   "id": "8bfca81d-e72d-4df7-8f14-fb0ee00b66b9",
   "metadata": {},
   "outputs": [],
   "source": [
    "# Convert 'to' to a string\n",
    "to_as_str = str(to)"
   ]
  },
  {
   "cell_type": "code",
   "execution_count": 60,
   "id": "f7b6609c-50a0-4a10-972a-4d5ab2f42222",
   "metadata": {},
   "outputs": [
    {
     "name": "stdout",
     "output_type": "stream",
     "text": [
      "True\n"
     ]
    }
   ],
   "source": [
    "print(to_as_str)"
   ]
  },
  {
   "cell_type": "markdown",
   "id": "4496f9fa-4770-4e48-8c6a-6de03a9e064c",
   "metadata": {},
   "source": [
    "Sets"
   ]
  },
  {
   "cell_type": "code",
   "execution_count": 18,
   "id": "9d1bd5fe-234c-4e6c-9a66-ba6ce51e8a09",
   "metadata": {},
   "outputs": [
    {
     "name": "stdout",
     "output_type": "stream",
     "text": [
      "{1, 2, 3, 4, 5, 6, 7, 8, 9, 10}\n"
     ]
    }
   ],
   "source": [
    "# create a set from 1-10\n",
    "the_set = set(range(1, 11))\n",
    "print(the_set)"
   ]
  },
  {
   "cell_type": "code",
   "execution_count": 20,
   "id": "de4edd33-f6fb-4c32-9305-862df003ba34",
   "metadata": {},
   "outputs": [
    {
     "name": "stdout",
     "output_type": "stream",
     "text": [
      "{1, 2, 3, 4, 5, 6, 7, 8, 9, 10, 11}\n"
     ]
    }
   ],
   "source": [
    "#add number 11\n",
    "the_set.add(11)\n",
    "print(the_set)"
   ]
  },
  {
   "cell_type": "code",
   "execution_count": 22,
   "id": "3b16ef01-a74e-4ad4-9d8f-50cd92d633bc",
   "metadata": {},
   "outputs": [
    {
     "name": "stdout",
     "output_type": "stream",
     "text": [
      "{1, 2, 3, 4, 6, 7, 8, 9, 10, 11}\n"
     ]
    }
   ],
   "source": [
    "#remove number 5\n",
    "the_set.remove(5)\n",
    "print(the_set)"
   ]
  },
  {
   "cell_type": "code",
   "execution_count": 24,
   "id": "aee4472d-0ae6-4612-b1b9-39e53f451589",
   "metadata": {},
   "outputs": [
    {
     "name": "stdout",
     "output_type": "stream",
     "text": [
      "3 is present in the set.\n"
     ]
    }
   ],
   "source": [
    "#check if number 3 is present in the set\n",
    "if 3 in the_set:\n",
    "    print(\"3 is present in the set.\")\n",
    "else:\n",
    "    print(\"3 is not present in the set.\")"
   ]
  },
  {
   "cell_type": "code",
   "execution_count": 26,
   "id": "c35e70f9-aa5c-45c7-ac8a-0ec0a4fdc6f1",
   "metadata": {},
   "outputs": [
    {
     "data": {
      "text/plain": [
       "10"
      ]
     },
     "execution_count": 26,
     "metadata": {},
     "output_type": "execute_result"
    }
   ],
   "source": [
    "#print the size of the set\n",
    "len(the_set)"
   ]
  },
  {
   "cell_type": "markdown",
   "id": "cccde2e3-6510-44e0-8c1b-8ba8cf77563f",
   "metadata": {},
   "source": [
    "List"
   ]
  },
  {
   "cell_type": "code",
   "execution_count": 59,
   "id": "7eb31a6d-930a-447d-9240-7855870a6a15",
   "metadata": {},
   "outputs": [
    {
     "name": "stdout",
     "output_type": "stream",
     "text": [
      "[1, 2, 3, 4, 5, 6, 7, 8, 9, 10]\n"
     ]
    }
   ],
   "source": [
    "# create a list from 1-10\n",
    "the_list= list(range(1, 11))\n",
    "print(the_list)"
   ]
  },
  {
   "cell_type": "code",
   "execution_count": 61,
   "id": "afd98eec-9057-4e45-9892-53c3cb0a1dcc",
   "metadata": {},
   "outputs": [
    {
     "name": "stdout",
     "output_type": "stream",
     "text": [
      "[1, 2, 3, 4, 5, 6, 7, 8, 9, 10, 11]\n"
     ]
    }
   ],
   "source": [
    "#add number 11\n",
    "the_list.append(11)\n",
    "print(the_list)"
   ]
  },
  {
   "cell_type": "code",
   "execution_count": 63,
   "id": "1f1319d7-ee98-4101-b344-4566daae58be",
   "metadata": {},
   "outputs": [
    {
     "name": "stdout",
     "output_type": "stream",
     "text": [
      "[1, 2, 3, 4, 6, 7, 8, 9, 10, 11]\n"
     ]
    }
   ],
   "source": [
    "#remove number 5\n",
    "the_list.remove(5)\n",
    "print(the_list)"
   ]
  },
  {
   "cell_type": "code",
   "execution_count": 65,
   "id": "a1af729e-fd5b-4842-8a95-6e129282389b",
   "metadata": {},
   "outputs": [
    {
     "name": "stdout",
     "output_type": "stream",
     "text": [
      "3 is present in the list.\n"
     ]
    }
   ],
   "source": [
    "#check if number 3 is present in the list\n",
    "if 3 in the_list:\n",
    "    print(\"3 is present in the list.\")\n",
    "else:\n",
    "    print(\"3 is not present in the list.\")"
   ]
  },
  {
   "cell_type": "code",
   "execution_count": 67,
   "id": "cc0760ba-9fb5-4dd7-afe1-8ce9773fe154",
   "metadata": {},
   "outputs": [
    {
     "name": "stdout",
     "output_type": "stream",
     "text": [
      "[2, 3, 4, 6, 7, 8, 9, 10, 11]\n"
     ]
    }
   ],
   "source": [
    "#remove first element of the list\n",
    "the_list.remove(1)\n",
    "print(the_list)"
   ]
  },
  {
   "cell_type": "code",
   "execution_count": 69,
   "id": "402015e5-37af-46ec-8c1d-93d246b4eec3",
   "metadata": {},
   "outputs": [
    {
     "data": {
      "text/plain": [
       "9"
      ]
     },
     "execution_count": 69,
     "metadata": {},
     "output_type": "execute_result"
    }
   ],
   "source": [
    "#print the size of the text\n",
    "len(the_list)"
   ]
  },
  {
   "cell_type": "code",
   "execution_count": 73,
   "id": "1cac84ad-4ddf-42d8-98d3-3134298fea58",
   "metadata": {},
   "outputs": [
    {
     "name": "stdout",
     "output_type": "stream",
     "text": [
      "[11, 10, 9, 8, 7, 6, 4, 3, 2]\n"
     ]
    }
   ],
   "source": [
    "#reverse the order of the list\n",
    "the_list.reverse()\n",
    "print(the_list)"
   ]
  }
 ],
 "metadata": {
  "kernelspec": {
   "display_name": "anaconda-panel-2023.05-py310",
   "language": "python",
   "name": "conda-env-anaconda-panel-2023.05-py310-py"
  },
  "language_info": {
   "codemirror_mode": {
    "name": "ipython",
    "version": 3
   },
   "file_extension": ".py",
   "mimetype": "text/x-python",
   "name": "python",
   "nbconvert_exporter": "python",
   "pygments_lexer": "ipython3",
   "version": "3.11.5"
  }
 },
 "nbformat": 4,
 "nbformat_minor": 5
}
