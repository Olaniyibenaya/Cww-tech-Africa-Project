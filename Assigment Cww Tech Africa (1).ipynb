{
 "cells": [
  {
   "cell_type": "markdown",
   "id": "30e3f2c0",
   "metadata": {},
   "source": [
    "#Assigment\n"
   ]
  },
  {
   "cell_type": "code",
   "execution_count": 3,
   "id": "b2087462",
   "metadata": {},
   "outputs": [
    {
     "name": "stdout",
     "output_type": "stream",
     "text": [
      "12\n",
      "26\n"
     ]
    }
   ],
   "source": [
    "def sum(a, b):\n",
    "    result = a + b\n",
    "    return result\n",
    "\n",
    "# Example usage:\n",
    "num1 = 5\n",
    "num2 = 7\n",
    "sum_result = sum(num1, num2)\n",
    "\n",
    "print(sum_result)\n",
    "\n",
    "num3 = 19\n",
    "num4 = 7\n",
    "sum_result = sum(num3, num4)\n",
    "\n",
    "print(sum_result)"
   ]
  },
  {
   "cell_type": "code",
   "execution_count": 12,
   "id": "bb09a374",
   "metadata": {},
   "outputs": [
    {
     "name": "stdout",
     "output_type": "stream",
     "text": [
      "Enter a number to calculate its factorial: 7\n",
      "The factorial of 7 is: 5040\n"
     ]
    }
   ],
   "source": [
    "def factorial(number):\n",
    "    if number == 0 or number == 1:\n",
    "        return 1\n",
    "    else:\n",
    "        return number * factorial(number - 1)\n",
    "\n",
    "## Allowing the user to input the number\n",
    "user_input = int(input(\"Enter a number to calculate its factorial: \"))\n",
    "\n",
    "## Calculating and displaying the result\n",
    "result = factorial(user_input)\n",
    "print(f\"The factorial of {user_input} is: {result}\")"
   ]
  },
  {
   "cell_type": "code",
   "execution_count": 28,
   "id": "7ca8c3b5",
   "metadata": {},
   "outputs": [
    {
     "name": "stdout",
     "output_type": "stream",
     "text": [
      "2 is prime: True\n",
      "3 is prime: True\n",
      "17 is prime: True\n",
      "25 is prime: False\n",
      "29 is prime: True\n",
      "35 is prime: False\n",
      "37 is prime: True\n",
      "41 is prime: True\n",
      "4 is prime: False\n",
      "7 is prime: True\n",
      "19 is prime: True\n",
      "15 is prime: False\n",
      "9 is prime: False\n",
      "5 is prime: True\n",
      "77 is prime: False\n",
      "41 is prime: True\n"
     ]
    }
   ],
   "source": [
    "def is_prime(number):\n",
    "  \n",
    "    if number <= 1:\n",
    "        return False\n",
    "    elif number == 2:\n",
    "        return True\n",
    "    elif number % 2 == 0:\n",
    "        return False\n",
    "    else:\n",
    "        # Check for divisibility from 3 up to the square root of the number\n",
    "        for i in range(3, int(number**0.5) + 1, 2):\n",
    "            if number % i == 0:\n",
    "                return False\n",
    "        return True\n",
    "\n",
    "# Examples\n",
    "test_numbers = [2, 3, 17, 25, 29, 35, 37, 41]\n",
    "\n",
    "for num in test_numbers:\n",
    "    result = is_prime(num)\n",
    "    print(f\"{num} is prime: {result}\")\n",
    "    \n",
    "test_numbers1 = [4, 7, 19, 15, 9, 5, 77, 41]\n",
    "for num in test_numbers1:\n",
    "    result = is_prime(num)\n",
    "    print(f\"{num} is prime: {result}\")\n",
    "    "
   ]
  },
  {
   "cell_type": "code",
   "execution_count": 21,
   "id": "9e1f32c4",
   "metadata": {},
   "outputs": [
    {
     "name": "stdout",
     "output_type": "stream",
     "text": [
      "The average of [10, 15, 20, 25, 30] is: 20.0\n"
     ]
    }
   ],
   "source": [
    "def calculate_average(numbers):\n",
    "    \n",
    "    if not numbers:\n",
    "        return None  # Return None for an empty list to avoid division by zero\n",
    "    total_sum = 0\n",
    "    for num in numbers:\n",
    "        total_sum += num\n",
    "    average = total_sum / len(numbers)\n",
    "    return average\n",
    "\n",
    "# Example usage:\n",
    "number_list = [10, 15, 20, 25, 30]\n",
    "result = calculate_average(number_list)\n",
    "\n",
    "print(f\"The average of {number_list} is: {result}\")\n"
   ]
  }
 ],
 "metadata": {
  "kernelspec": {
   "display_name": "Python 3 (ipykernel)",
   "language": "python",
   "name": "python3"
  },
  "language_info": {
   "codemirror_mode": {
    "name": "ipython",
    "version": 3
   },
   "file_extension": ".py",
   "mimetype": "text/x-python",
   "name": "python",
   "nbconvert_exporter": "python",
   "pygments_lexer": "ipython3",
   "version": "3.11.3"
  }
 },
 "nbformat": 4,
 "nbformat_minor": 5
}
